{
  "nbformat": 4,
  "nbformat_minor": 0,
  "metadata": {
    "colab": {
      "provenance": [],
      "authorship_tag": "ABX9TyPiMMKRCLb/V04ufF7+iLCN",
      "include_colab_link": true
    },
    "kernelspec": {
      "name": "python3",
      "display_name": "Python 3"
    },
    "language_info": {
      "name": "python"
    }
  },
  "cells": [
    {
      "cell_type": "markdown",
      "metadata": {
        "id": "view-in-github",
        "colab_type": "text"
      },
      "source": [
        "<a href=\"https://colab.research.google.com/github/AnkitaAnalytics/Hackerrank-Python/blob/main/Finding_Substring.ipynb\" target=\"_parent\"><img src=\"https://colab.research.google.com/assets/colab-badge.svg\" alt=\"Open In Colab\"/></a>"
      ]
    },
    {
      "cell_type": "code",
      "execution_count": 4,
      "metadata": {
        "colab": {
          "base_uri": "https://localhost:8080/"
        },
        "id": "2lpnVQTqbJPL",
        "outputId": "c7a235c3-edd0-46ec-fd72-9bbf8d62016f"
      },
      "outputs": [
        {
          "output_type": "stream",
          "name": "stdout",
          "text": [
            "Enter the string ABCDCBDCDCBCD\n",
            "Enter substringCDC\n",
            "ABCDCBDCDCBCD\n",
            "CDC\n",
            "2\n"
          ]
        }
      ],
      "source": [
        "\n",
        "# counting sub_string without considering overlapping substrings\n",
        "if __name__ == '__main__':\n",
        "    string = input(\"Enter the string \").strip()\n",
        "    sub_string = input(\"Enter substring\").strip()\n",
        "    print (string)\n",
        "    print (sub_string)\n",
        "    c = string.count(sub_string) #using the count function\n",
        "    print (c)\n",
        ""
      ]
    },
    {
      "cell_type": "code",
      "source": [
        "def count_substring(string, sub_string):\n",
        "    c = 0\n",
        "    for i in range(len(string)):\n",
        "        if string[i:i+len(sub_string)] == sub_string:\n",
        "            c +=1\n",
        "    return c\n",
        "\n",
        "if __name__ == '__main__':\n",
        "    string = input(\"Enter String \").strip()\n",
        "    sub_string = input(\"Enter Sub string \").strip()\n",
        "\n",
        "    count = count_substring(string, sub_string)\n",
        "    print(count)"
      ],
      "metadata": {
        "colab": {
          "base_uri": "https://localhost:8080/"
        },
        "id": "SioVqZThbeaX",
        "outputId": "ed1a0099-f9a4-4396-b125-5d34655cc31e"
      },
      "execution_count": 5,
      "outputs": [
        {
          "output_type": "stream",
          "name": "stdout",
          "text": [
            "Enter String ABCDCDC\n",
            "Enter Sub string CDC\n",
            "2\n"
          ]
        }
      ]
    },
    {
      "cell_type": "code",
      "source": [],
      "metadata": {
        "id": "PzUwEtH6cA4b"
      },
      "execution_count": null,
      "outputs": []
    }
  ]
}