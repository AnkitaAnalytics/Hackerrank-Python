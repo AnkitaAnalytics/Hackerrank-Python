{
  "nbformat": 4,
  "nbformat_minor": 0,
  "metadata": {
    "colab": {
      "provenance": [],
      "authorship_tag": "ABX9TyNCSpqtz5mmsL6EVhVqbtce",
      "include_colab_link": true
    },
    "kernelspec": {
      "name": "python3",
      "display_name": "Python 3"
    },
    "language_info": {
      "name": "python"
    }
  },
  "cells": [
    {
      "cell_type": "markdown",
      "metadata": {
        "id": "view-in-github",
        "colab_type": "text"
      },
      "source": [
        "<a href=\"https://colab.research.google.com/github/AnkitaAnalytics/Hackerrank-Python/blob/main/Modifying_strings.ipynb\" target=\"_parent\"><img src=\"https://colab.research.google.com/assets/colab-badge.svg\" alt=\"Open In Colab\"/></a>"
      ]
    },
    {
      "cell_type": "markdown",
      "source": [
        "Strings like tuples are immutable. But what if you want to make changes in it.\n",
        "\n",
        "You are given an immutable string but have been asked to replace a character in it with another character"
      ],
      "metadata": {
        "id": "hfb3Q3LYrbaL"
      }
    },
    {
      "cell_type": "code",
      "source": [
        "def mutate_string(string, position, character):\n",
        "    new = string[:position] + character + string[position+1:]\n",
        "    return new\n",
        "if __name__ == '__main__':\n",
        "    s = input(\"Enter the string \")\n",
        "    i, c = input(\"Enter the index number and new character \").split()\n",
        "    s_new = mutate_string(s, int(i), c)\n",
        "    print(s_new)"
      ],
      "metadata": {
        "colab": {
          "base_uri": "https://localhost:8080/"
        },
        "id": "oww7NvOVr4Yw",
        "outputId": "9cac7c93-859a-4022-ca8e-1c6908396174"
      },
      "execution_count": 1,
      "outputs": [
        {
          "output_type": "stream",
          "name": "stdout",
          "text": [
            "Enter the string Funfime\n",
            "Enter the index number and new character 3 T\n",
            "FunTime\n"
          ]
        }
      ]
    },
    {
      "cell_type": "code",
      "source": [],
      "metadata": {
        "id": "jsY2N3ilsAYC"
      },
      "execution_count": null,
      "outputs": []
    }
  ]
}