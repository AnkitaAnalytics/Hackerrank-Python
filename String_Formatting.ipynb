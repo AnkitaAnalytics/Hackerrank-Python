{
  "nbformat": 4,
  "nbformat_minor": 0,
  "metadata": {
    "colab": {
      "provenance": [],
      "authorship_tag": "ABX9TyNLSWJXS7oTVZ37bR98yFK9",
      "include_colab_link": true
    },
    "kernelspec": {
      "name": "python3",
      "display_name": "Python 3"
    },
    "language_info": {
      "name": "python"
    }
  },
  "cells": [
    {
      "cell_type": "markdown",
      "metadata": {
        "id": "view-in-github",
        "colab_type": "text"
      },
      "source": [
        "<a href=\"https://colab.research.google.com/github/AnkitaAnalytics/Hackerrank-Python/blob/main/String_Formatting.ipynb\" target=\"_parent\"><img src=\"https://colab.research.google.com/assets/colab-badge.svg\" alt=\"Open In Colab\"/></a>"
      ]
    },
    {
      "cell_type": "markdown",
      "source": [
        "You are given the firstname and lastname of a person on two different lines. Your task is to read them and print the following:\n",
        "\n",
        "Hello firstname lastname! You just delved into python."
      ],
      "metadata": {
        "id": "oSiWExfalUz7"
      }
    },
    {
      "cell_type": "code",
      "source": [
        "def print_full_name(first, last):\n",
        "    if len(first)>10 or len(last)>10:\n",
        "        print (\"The Length of first or last name is greater than 10\")\n",
        "    else:\n",
        "        print (f\"Hello {first} {last}! You just delved into python.\") #using f- strings which allows to embed the variables directly into strings\n",
        "\n",
        "\n",
        "if __name__ == '__main__':\n",
        "    first_name = input(\"Enter the first name \")\n",
        "    last_name = input(\"Enter the last name \")\n",
        "    print_full_name(first_name, last_name)"
      ],
      "metadata": {
        "colab": {
          "base_uri": "https://localhost:8080/"
        },
        "id": "eZfe3cmrlWC-",
        "outputId": "49414251-de27-4027-d346-2a8bae7d3091"
      },
      "execution_count": 1,
      "outputs": [
        {
          "output_type": "stream",
          "name": "stdout",
          "text": [
            "Enter the first name Suhana\n",
            "Enter the last name Gaur\n",
            "Hello Suhana Gaur! You just delved into python.\n"
          ]
        }
      ]
    },
    {
      "cell_type": "code",
      "source": [],
      "metadata": {
        "id": "b2X9CPLDlhdS"
      },
      "execution_count": null,
      "outputs": []
    }
  ]
}